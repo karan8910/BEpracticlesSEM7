{
 "cells": [
  {
   "cell_type": "code",
   "execution_count": 27,
   "id": "40c2166b",
   "metadata": {},
   "outputs": [],
   "source": [
    "import pandas as pd "
   ]
  },
  {
   "cell_type": "code",
   "execution_count": 28,
   "id": "d8374160",
   "metadata": {},
   "outputs": [],
   "source": [
    "import numpy as np"
   ]
  },
  {
   "cell_type": "code",
   "execution_count": 42,
   "id": "24ffa8f6",
   "metadata": {},
   "outputs": [],
   "source": [
    "import matplotlib.pyplot as plt"
   ]
  },
  {
   "cell_type": "code",
   "execution_count": 34,
   "id": "4ecbf257",
   "metadata": {},
   "outputs": [],
   "source": [
    "import seaborn as sns"
   ]
  },
  {
   "cell_type": "code",
   "execution_count": 72,
   "id": "54c8e0ac",
   "metadata": {},
   "outputs": [],
   "source": [
    "curv = 3 \n",
    "rate = 0.01\n",
    "pre = 0.000001 \n",
    "previous_size = 1 \n",
    "max_iters = 10000\n",
    "iters = 0 \n",
    "df = lambda x: 2*(x+3)"
   ]
  },
  {
   "cell_type": "code",
   "execution_count": 73,
   "id": "98b51d77",
   "metadata": {},
   "outputs": [],
   "source": [
    "arr=[]\n",
    "itr=[]\n",
    "while previous_size > pre and iters < max_iters:\n",
    "    prev_x = curv\n",
    "    curv = curv - rate * df(prev_x) \n",
    "    previous_size = abs(curv - prev_x) \n",
    "    iters = iters+1 \n",
    "    itr.append(iters)\n",
    "    arr.append(curv)"
   ]
  },
  {
   "cell_type": "code",
   "execution_count": 74,
   "id": "26371ce8",
   "metadata": {},
   "outputs": [
    {
     "name": "stdout",
     "output_type": "stream",
     "text": [
      "The local minimum occurs at -2.99995110379515\n"
     ]
    },
    {
     "data": {
      "text/plain": [
       "Text(0, 0.5, 'cost')"
      ]
     },
     "execution_count": 74,
     "metadata": {},
     "output_type": "execute_result"
    },
    {
     "data": {
      "image/png": "[encoded data removed]",
      "text/plain": [
       "<Figure size 576x576 with 1 Axes>"
      ]
     },
     "metadata": {
      "needs_background": "light"
     },
     "output_type": "display_data"
    }
   ],
   "source": [
    "print(\"The local minimum occurs at\", curv)\n",
    "plt.rcParams['figure.figsize'] = [8,8 ]\n",
    "plt.plot(itr,arr)\n",
    "plt.title('Gradient Decent')\n",
    "plt.xlabel('iteration')\n",
    "plt.ylabel('cost')"
   ]
  },
  {
   "cell_type": "code",
   "execution_count": null,
   "id": "7f085005",
   "metadata": {},
   "outputs": [],
   "source": []
  },
  {
   "cell_type": "code",
   "execution_count": null,
   "id": "9f3ccbbf",
   "metadata": {},
   "outputs": [],
   "source": []
  }
 ],
 "metadata": {
  "kernelspec": {
   "display_name": "Python 3 (ipykernel)",
   "language": "python",
   "name": "python3"
  },
  "language_info": {
   "codemirror_mode": {
    "name": "ipython",
    "version": 3
   },
   "file_extension": ".py",
   "mimetype": "text/x-python",
   "name": "python",
   "nbconvert_exporter": "python",
   "pygments_lexer": "ipython3",
   "version": "3.9.12"
  }
 },
 "nbformat": 4,
 "nbformat_minor": 5
}
